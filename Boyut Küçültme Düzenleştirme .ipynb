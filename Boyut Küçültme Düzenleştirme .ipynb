{
 "cells": [
  {
   "cell_type": "code",
   "execution_count": 1,
   "id": "7f0078e2",
   "metadata": {},
   "outputs": [],
   "source": [
    "import numpy as np \n",
    "import matplotlib.pyplot as plt\n",
    "from sklearn.datasets import load_boston\n",
    "from sklearn.linear_model import LinearRegression \n",
    "from sklearn.linear_model import Ridge\n",
    "from sklearn.linear_model import Lasso \n",
    "from sklearn.model_selection import train_test_split"
   ]
  },
  {
   "cell_type": "code",
   "execution_count": 2,
   "id": "2acb03e7",
   "metadata": {},
   "outputs": [],
   "source": [
    "X, y = load_boston(return_X_y = True)\n",
    "boston = load_boston()\n",
    "X_egitim, X_test, y_egitim, y_test = train_test_split(X, y,\n",
    "                                                     test_size= 0.3,\n",
    "                                                     random_state = 3)"
   ]
  },
  {
   "cell_type": "code",
   "execution_count": 3,
   "id": "220898f4",
   "metadata": {},
   "outputs": [
    {
     "name": "stdout",
     "output_type": "stream",
     "text": [
      "Lineer: Egitim verisi R2 degeri 0.7419034960343789\n",
      "Lineer: Test verisi R2 degeri 0.7419034960343789\n"
     ]
    }
   ],
   "source": [
    "#Lineer Model \n",
    "lineermodel= LinearRegression()#model yaratılması\n",
    "lineermodel.fit(X_egitim, y_egitim)#egitim verisinin modele uyumu fit etme muhabbeti\n",
    "lineer_egitim_r2 = lineermodel.score(X_egitim, y_egitim)#modelin egitim verisi üzerindedeki r^2 değeri\n",
    "lineer_test_r2 = lineermodel.score(X_egitim, y_egitim)#modelin test verisi üzerindeki r^2 değeri \n",
    "print('Lineer: Egitim verisi R2 degeri',lineer_egitim_r2)# değerlerin ekrana yazdırımı onu da anla be kardeş\n",
    "print('Lineer: Test verisi R2 degeri', lineer_test_r2)"
   ]
  },
  {
   "cell_type": "code",
   "execution_count": 4,
   "id": "638e38cc",
   "metadata": {},
   "outputs": [
    {
     "name": "stdout",
     "output_type": "stream",
     "text": [
      "Ridge: Eğitim verisi R2 değeri 0.7419030253527293\n",
      "Ridge: Test verisi R2 değeri 0.7146125373123906\n"
     ]
    }
   ],
   "source": [
    "# RİDGE\n",
    "ridge = Ridge(alpha = 0.01)\n",
    "ridge.fit(X_egitim, y_egitim)\n",
    "ridge_egitim_r2 = ridge.score(X_egitim, y_egitim)\n",
    "ridge_test_r2 = ridge.score(X_test, y_test)\n",
    "print('Ridge: Eğitim verisi R2 değeri',ridge_egitim_r2)\n",
    "print('Ridge: Test verisi R2 değeri', ridge_test_r2)"
   ]
  },
  {
   "cell_type": "code",
   "execution_count": 5,
   "id": "305d7f6f",
   "metadata": {},
   "outputs": [
    {
     "name": "stdout",
     "output_type": "stream",
     "text": [
      "Ridge: Eğitim verisi için R2 değeri 0.7418925622143251\n",
      "Ridge: Test verisi için R2 değeri 0.7146125373123906\n"
     ]
    }
   ],
   "source": [
    "ridge2 = Ridge(alpha = 0.05)\n",
    "ridge2.fit(X_egitim, y_egitim)\n",
    "ridge2_egitim_r2 = ridge2.score(X_egitim, y_egitim)\n",
    "ridge2_test_r2 = ridge2.score(X_test, y_test)\n",
    "print('Ridge: Eğitim verisi için R2 değeri', ridge2_egitim_r2)\n",
    "print('Ridge: Test verisi için R2 değeri', ridge_test_r2)"
   ]
  },
  {
   "cell_type": "code",
   "execution_count": 8,
   "id": "b8ddbcc8",
   "metadata": {},
   "outputs": [
    {
     "data": {
      "text/plain": [
       "[<matplotlib.lines.Line2D at 0x229522536d0>]"
      ]
     },
     "execution_count": 8,
     "metadata": {},
     "output_type": "execute_result"
    },
    {
     "data": {
      "image/png": "[encoded data removed]",
      "text/plain": [
       "<Figure size 576x432 with 1 Axes>"
      ]
     },
     "metadata": {
      "needs_background": "light"
     },
     "output_type": "display_data"
    }
   ],
   "source": [
    "plt.figure(figsize=(8,6))\n",
    "plt.plot(ridge.coef_, \n",
    "         alpha =0.7,\n",
    "         linestyle = 'none',\n",
    "         marker = '*',\n",
    "         markersize = 15,\n",
    "         color = 'red',\n",
    "         label = r'Ridge: $\\lambda = 0.01$')"
   ]
  },
  {
   "cell_type": "code",
   "execution_count": 10,
   "id": "30d971d1",
   "metadata": {},
   "outputs": [
    {
     "name": "stderr",
     "output_type": "stream",
     "text": [
      "No handles with labels found to put in legend.\n"
     ]
    },
    {
     "data": {
      "image/png": "[encoded data removed]",
      "text/plain": [
       "<Figure size 432x288 with 1 Axes>"
      ]
     },
     "metadata": {
      "needs_background": "light"
     },
     "output_type": "display_data"
    }
   ],
   "source": [
    "plt.xlabel('Katsayılar', fontsize = 16)\n",
    "plt.ylabel('Katsayı değerleri', fontsize = 16)\n",
    "plt.legend(fontsize = 13, loc = 4)\n",
    "plt.show()"
   ]
  },
  {
   "cell_type": "code",
   "execution_count": 11,
   "id": "3545f318",
   "metadata": {},
   "outputs": [
    {
     "name": "stdout",
     "output_type": "stream",
     "text": [
      "Lasso: Eğitim verisi için R2 değeri 0.7414845253242521\n",
      "Lasso: Test verisi için R2 değeri 0.7096270988778384\n"
     ]
    }
   ],
   "source": [
    "#Lasso\n",
    "lasso = Lasso(alpha = 0.01)\n",
    "lasso.fit(X_egitim, y_egitim)\n",
    "lasso_egitim_r2 = lasso.score(X_egitim, y_egitim)\n",
    "lasso_test_r2 = lasso.score(X_test, y_test)\n",
    "print('Lasso: Eğitim verisi için R2 değeri',lasso_egitim_r2)\n",
    "print('Lasso: Test verisi için R2 değeri', lasso_test_r2)"
   ]
  },
  {
   "cell_type": "code",
   "execution_count": 14,
   "id": "a58835b9",
   "metadata": {},
   "outputs": [
    {
     "name": "stdout",
     "output_type": "stream",
     "text": [
      "Lasso: Egitim verisi için R2 değeri 0.7414845253242521\n",
      "Lasso: Test verisi için R2 değeri 0.7096270988778384\n"
     ]
    }
   ],
   "source": [
    "lasso2 = Lasso(alpha = 1)\n",
    "lasso2.fit(X_egitim, y_egitim)\n",
    "lasso2_egitim_r2 = lasso.score(X_egitim, y_egitim)\n",
    "lasso2_test_r2 = lasso.score(X_test, y_test)\n",
    "print('Lasso: Egitim verisi için R2 değeri', lasso2_egitim_r2)\n",
    "print('Lasso: Test verisi için R2 değeri', lasso2_test_r2)"
   ]
  },
  {
   "cell_type": "code",
   "execution_count": null,
   "id": "52803c29",
   "metadata": {},
   "outputs": [],
   "source": []
  }
 ],
 "metadata": {
  "kernelspec": {
   "display_name": "Python 3 (ipykernel)",
   "language": "python",
   "name": "python3"
  },
  "language_info": {
   "codemirror_mode": {
    "name": "ipython",
    "version": 3
   },
   "file_extension": ".py",
   "mimetype": "text/x-python",
   "name": "python",
   "nbconvert_exporter": "python",
   "pygments_lexer": "ipython3",
   "version": "3.9.7"
  }
 },
 "nbformat": 4,
 "nbformat_minor": 5
}
